{
  "nbformat": 4,
  "nbformat_minor": 0,
  "metadata": {
    "colab": {
      "name": "TVING DOWNLOADER.ipynb",
      "provenance": [],
      "collapsed_sections": []
    },
    "kernelspec": {
      "display_name": "Python 3",
      "name": "python3"
    }
  },
  "cells": [
    {
      "cell_type": "code",
      "metadata": {
        "colab": {
          "base_uri": "https://localhost:8080/"
        },
        "id": "Uo_Bd1WwFFOP",
        "cellView": "form",
        "outputId": "1988f78a-2f95-478c-ef33-88ee49e8e93d"
      },
      "source": [
        "#@markdown <br><center><img src='https://upload.wikimedia.org/wikipedia/commons/thumb/d/da/Google_Drive_logo.png/600px-Google_Drive_logo.png' height=\"50\" alt=\"Gdrive-logo\"/></center>\n",
        "#@markdown <center><h3>Mount Gdrive to /content/drive</h3></center><br>\n",
        "MODE = \"MOUNT\" #@param [\"MOUNT\", \"UNMOUNT\"]\n",
        "#Mount your Gdrive! \n",
        "from google.colab import drive\n",
        "drive.mount._DEBUG = False\n",
        "if MODE == \"MOUNT\":\n",
        "  drive.mount('/content/drive', force_remount=False)\n",
        "elif MODE == \"UNMOUNT\":\n",
        "  try:\n",
        "    drive.flush_and_unmount()\n",
        "  except ValueError:\n",
        "    pass\n",
        "  get_ipython().system_raw(\"rm -rf /root/.config/Google/DriveFS\")"
      ],
      "execution_count": null,
      "outputs": [
        {
          "output_type": "stream",
          "text": [
            "Mounted at /content/drive\n"
          ],
          "name": "stdout"
        }
      ]
    },
    {
      "cell_type": "markdown",
      "metadata": {
        "id": "Dx_jPgghqCER"
      },
      "source": [
        "# **OTT DOWNLOADER**"
      ]
    },
    {
      "cell_type": "code",
      "metadata": {
        "id": "Ou9R2AmT-fjL",
        "cellView": "form"
      },
      "source": [
        "#@title **Streamlink 설치 (필수)**\n",
        "!pip install streamlink &> /dev/null"
      ],
      "execution_count": null,
      "outputs": []
    },
    {
      "cell_type": "code",
      "metadata": {
        "id": "_lrds0UKJgHg",
        "colab": {
          "base_uri": "https://localhost:8080/",
          "height": 130
        },
        "cellView": "form",
        "outputId": "7f235cf5-ea1d-4c7d-d2e9-06aae7a4d841"
      },
      "source": [
        "#@title **TVING FULL SERIES DOWNLOADER**\n",
        "TITLE = \"\" #@param {type:\"string\"}\n",
        "EP_COUNT = 1 #@param {type:\"number\"}\n",
        "EXTENSION = \"mp4\" #@param {type:\"string\"}\n",
        "DEST = \"/content/drive/MyDrive/\" #@param {type:\"string\"}\n",
        "\n",
        "import os\n",
        "arr=[]\n",
        "\n",
        "# EP_COUNT = int(input(\"Enter Number of Episodes: \"))\n",
        "# TITLE = str(input(\"Enter Title: \"))\n",
        "# EXTENSION = str(input(\"Enter Extension: \"))\n",
        "\n",
        "for i in range (0,EP_COUNT,1):\n",
        "\tEP_=i+1\n",
        "\tinput_ = str(input(\"Enter Link for EP%s: \"%EP_))\n",
        "\tarr.append(input_)\n",
        "\t\n",
        "def download(EP,url,title,extension):\n",
        "\tif len(str(EP)) == 1:\n",
        "\t\tEP=\"0%s\"%EP\n",
        "\telse:\n",
        "\t\tEP=EP\n",
        "\tFILE_NAME=\"%s/%s.E%s.1080p.WEB-DL.H264.AAC.SeVN.%s\"%(DEST,TITLE,EP,extension)\n",
        "\t!streamlink -o \"$FILE_NAME\" \"$url\" best --hls-segment-threads 10\n",
        "\n",
        "EP=0\n",
        "\n",
        "print(\"Starting Download..\")\n",
        "for i in arr:\n",
        "\tEP=EP+1\n",
        "\tdownload(EP,i,TITLE,EXTENSION)"
      ],
      "execution_count": 1,
      "outputs": [
        {
          "output_type": "error",
          "ename": "SyntaxError",
          "evalue": "ignored",
          "traceback": [
            "\u001b[0;36m  File \u001b[0;32m\"<ipython-input-1-45cd9001e27c>\"\u001b[0;36m, line \u001b[0;32m3\u001b[0m\n\u001b[0;31m    EP_COUNT =   #@param {type:\"number\"}\u001b[0m\n\u001b[0m                                        ^\u001b[0m\n\u001b[0;31mSyntaxError\u001b[0m\u001b[0;31m:\u001b[0m invalid syntax\n"
          ]
        }
      ]
    }
  ]
}